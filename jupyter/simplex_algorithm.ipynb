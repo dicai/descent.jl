{
 "cells": [
  {
   "cell_type": "code",
   "execution_count": 3,
   "metadata": {
    "collapsed": false
   },
   "outputs": [],
   "source": [
    "include(\"../utils/functions.jl\")\n",
    "include(\"../optimizers/activeset.jl\")\n",
    "\n",
    "using Gadfly"
   ]
  },
  {
   "cell_type": "markdown",
   "metadata": {},
   "source": [
    "A linear program is a constrained optimization problem of the form\n",
    "$$\\min_x c^\\top x \\text{ subject to } Ax = b; x \\geq 0,$$\n",
    "where the objective function is linear.\n",
    "You can also have inequality constraints, which is similar to the equality constraints version with additional slack variables."
   ]
  },
  {
   "cell_type": "code",
   "execution_count": 9,
   "metadata": {
    "collapsed": false
   },
   "outputs": [
    {
     "name": "stdout",
     "output_type": "stream",
     "text": [
      "Optimal point found!\n"
     ]
    },
    {
     "data": {
      "text/plain": [
       "(Bool[true,true,false,false,false,false],[3.6666666666666665,1.3333333333333333,0.0,0.0,0.0,0.0])"
      ]
     },
     "execution_count": 9,
     "metadata": {},
     "output_type": "execute_result"
    }
   ],
   "source": [
    "## Toy example \n",
    "\n",
    "A = [1 1   1 0;\n",
    "     2 1/2 0 1]\n",
    "b = Vector{Float64}([5, 8])\n",
    "c = Vector{Float64}([-4, -2, 0, 0])\n",
    "\n",
    "#assts = [true,false,true,false]\n",
    "assts = [false,false,true,true]\n",
    "\n",
    "#x = [4.,0.,1.,0.]\n",
    "x = [0.,0.,5.,8.]\n",
    "run_simplex(assts,x,A,b,c,2)\n",
    "#simplex_iteration(assts, x, A, b, c)\n",
    "\n",
    "# phase I of simplex \n",
    "x0 = [0.,0.,0.,0.,5.,8.] # last 2 entries are z1, z2\n",
    "A0 = [1 1   1 0    1 0;\n",
    "     2 1/2 0 1    0 1]\n",
    "c0 = [0., 0., 0., 0., 1., 1.]\n",
    "\n",
    "assts0 = [false,false,false,false,true,true]\n",
    "\n",
    "assts_start,x_start = run_simplex(assts0,x0,A0,b,c0,5)"
   ]
  },
  {
   "cell_type": "code",
   "execution_count": 4,
   "metadata": {
    "collapsed": false
   },
   "outputs": [
    {
     "data": {
      "text/plain": [
       "run_program (generic function with 2 methods)"
      ]
     },
     "execution_count": 4,
     "metadata": {},
     "output_type": "execute_result"
    }
   ],
   "source": [
    "function run_program(m, num_iters=100)\n",
    "    n = 3*m\n",
    "    # generate random values for A\n",
    "    A = randn(m,n)\n",
    "    b = randn(m) + 1\n",
    "    c = randn(n) * 2 + 2\n",
    "    \n",
    "    return run_two_stage_simplex(A, b, c, num_iters)\n",
    "end"
   ]
  },
  {
   "cell_type": "code",
   "execution_count": 5,
   "metadata": {
    "collapsed": false
   },
   "outputs": [
    {
     "name": "stdout",
     "output_type": "stream",
     "text": [
      "\n",
      "Running Phase I of simplex algorithm\n",
      "\n",
      "Optimal point found!\n",
      "\n",
      "Running Phase II of simplex algorithm \n",
      "\n",
      "Optimal point found!\n",
      "\n",
      "Time: 0.23734 (s)\n",
      "Running Phase I of simplex algorithm\n",
      "\n",
      "Optimal point found!\n",
      "\n",
      "Running Phase II of simplex algorithm \n",
      "\n",
      "Optimal point found!\n",
      "\n",
      "Time: 0.04600 (s)\n",
      "Running Phase I of simplex algorithm\n",
      "\n",
      "\n",
      "Running Phase II of simplex algorithm \n",
      "\n",
      "\n",
      "Time: 0.20672 (s)\n",
      "Running Phase I of simplex algorithm\n",
      "\n",
      "No feasible solution for m=120\n",
      "\n",
      "Running Phase II of simplex algorithm \n",
      "\n",
      "\n",
      "Time: 0.23027 (s)\n",
      "Running Phase I of simplex algorithm\n",
      "\n",
      "\n",
      "Running Phase II of simplex algorithm \n",
      "\n",
      "Optimal point found!\n"
     ]
    },
    {
     "data": {
      "text/plain": [
       "5"
      ]
     },
     "execution_count": 5,
     "metadata": {},
     "output_type": "execute_result"
    },
    {
     "name": "stdout",
     "output_type": "stream",
     "text": [
      "\n",
      "Time: 0.20640 (s)"
     ]
    }
   ],
   "source": [
    "function run_experiment(num_rounds, num_iters)\n",
    "    times = []\n",
    "    for m in range(10,10,num_rounds)\n",
    "        x, assts, time = run_program(m, num_iters)\n",
    "        push!(times,time)\n",
    "    end\n",
    "    return times\n",
    "end\n",
    "\n",
    "times = run_experiment(5,100)\n",
    "\n",
    "num_rounds = 20\n",
    "\n",
    "length(times)"
   ]
  },
  {
   "cell_type": "code",
   "execution_count": 7,
   "metadata": {
    "collapsed": false
   },
   "outputs": [],
   "source": [
    "#Gadfly.plot(x=range(10,10,num_rounds), y=times, Guide.XLabel(\"m\"),\n",
    "#    Guide.YLabel(\"time (s)\"),)"
   ]
  },
  {
   "cell_type": "code",
   "execution_count": null,
   "metadata": {
    "collapsed": true
   },
   "outputs": [],
   "source": []
  }
 ],
 "metadata": {
  "kernelspec": {
   "display_name": "Julia 0.4.0",
   "language": "julia",
   "name": "julia-0.4"
  },
  "language_info": {
   "file_extension": ".jl",
   "mimetype": "application/julia",
   "name": "julia",
   "version": "0.4.0"
  }
 },
 "nbformat": 4,
 "nbformat_minor": 0
}
